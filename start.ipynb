{
 "cells": [
  {
   "cell_type": "code",
   "execution_count": 1,
   "id": "761201a9",
   "metadata": {},
   "outputs": [],
   "source": [
    "import numpy as np\n",
    "import pandas as pd\n",
    "import requests\n",
    "import json"
   ]
  },
  {
   "cell_type": "code",
   "execution_count": 2,
   "id": "a11247c2",
   "metadata": {},
   "outputs": [],
   "source": [
    "source = pd.read_excel('data.xlsx',sheet_name='source')"
   ]
  },
  {
   "cell_type": "code",
   "execution_count": 3,
   "id": "02b7f0c5",
   "metadata": {},
   "outputs": [],
   "source": [
    "df = pd.read_excel('data.xlsx',sheet_name='Data')"
   ]
  },
  {
   "cell_type": "code",
   "execution_count": 4,
   "id": "080706de",
   "metadata": {},
   "outputs": [
    {
     "data": {
      "text/html": [
       "<div>\n",
       "<style scoped>\n",
       "    .dataframe tbody tr th:only-of-type {\n",
       "        vertical-align: middle;\n",
       "    }\n",
       "\n",
       "    .dataframe tbody tr th {\n",
       "        vertical-align: top;\n",
       "    }\n",
       "\n",
       "    .dataframe thead th {\n",
       "        text-align: right;\n",
       "    }\n",
       "</style>\n",
       "<table border=\"1\" class=\"dataframe\">\n",
       "  <thead>\n",
       "    <tr style=\"text-align: right;\">\n",
       "      <th></th>\n",
       "      <th>sector</th>\n",
       "      <th>Municipality area</th>\n",
       "      <th>city</th>\n",
       "    </tr>\n",
       "  </thead>\n",
       "  <tbody>\n",
       "    <tr>\n",
       "      <th>0</th>\n",
       "      <td>حصاربوعلی</td>\n",
       "      <td>1</td>\n",
       "      <td>تهران</td>\n",
       "    </tr>\n",
       "    <tr>\n",
       "      <th>1</th>\n",
       "      <td>رستم آباد- فرمانیه</td>\n",
       "      <td>1</td>\n",
       "      <td>تهران</td>\n",
       "    </tr>\n",
       "    <tr>\n",
       "      <th>2</th>\n",
       "      <td>اوین</td>\n",
       "      <td>1</td>\n",
       "      <td>تهران</td>\n",
       "    </tr>\n",
       "    <tr>\n",
       "      <th>3</th>\n",
       "      <td>درکه</td>\n",
       "      <td>1</td>\n",
       "      <td>تهران</td>\n",
       "    </tr>\n",
       "    <tr>\n",
       "      <th>4</th>\n",
       "      <td>زعفرانیه</td>\n",
       "      <td>1</td>\n",
       "      <td>تهران</td>\n",
       "    </tr>\n",
       "  </tbody>\n",
       "</table>\n",
       "</div>"
      ],
      "text/plain": [
       "               sector  Municipality area   city\n",
       "0           حصاربوعلی                  1  تهران\n",
       "1  رستم آباد- فرمانیه                  1  تهران\n",
       "2                اوین                  1  تهران\n",
       "3                درکه                  1  تهران\n",
       "4            زعفرانیه                  1  تهران"
      ]
     },
     "execution_count": 4,
     "metadata": {},
     "output_type": "execute_result"
    }
   ],
   "source": [
    "source.head()"
   ]
  },
  {
   "cell_type": "code",
   "execution_count": 21,
   "id": "9d011f24",
   "metadata": {},
   "outputs": [
    {
     "data": {
      "text/html": [
       "<div>\n",
       "<style scoped>\n",
       "    .dataframe tbody tr th:only-of-type {\n",
       "        vertical-align: middle;\n",
       "    }\n",
       "\n",
       "    .dataframe tbody tr th {\n",
       "        vertical-align: top;\n",
       "    }\n",
       "\n",
       "    .dataframe thead th {\n",
       "        text-align: right;\n",
       "    }\n",
       "</style>\n",
       "<table border=\"1\" class=\"dataframe\">\n",
       "  <thead>\n",
       "    <tr style=\"text-align: right;\">\n",
       "      <th></th>\n",
       "      <th>Number</th>\n",
       "      <th>Customer Name</th>\n",
       "      <th>Details</th>\n",
       "      <th>Latitude</th>\n",
       "      <th>Longitude</th>\n",
       "    </tr>\n",
       "  </thead>\n",
       "  <tbody>\n",
       "    <tr>\n",
       "      <th>0</th>\n",
       "      <td>1081095</td>\n",
       "      <td>ابراهیم آل ابراهیم - سایت تهران - 2237760</td>\n",
       "      <td>خ محلاتی خ کیانی  خ میثم انتهای خیابان پ 7</td>\n",
       "      <td>___</td>\n",
       "      <td>___</td>\n",
       "    </tr>\n",
       "    <tr>\n",
       "      <th>1</th>\n",
       "      <td>1117381</td>\n",
       "      <td>جواد بیگلری سایت کرج</td>\n",
       "      <td>فردیس کانال غربی خ دهکده بازار روز نقشه جهان غ...</td>\n",
       "      <td>35.733427</td>\n",
       "      <td>50.970085</td>\n",
       "    </tr>\n",
       "    <tr>\n",
       "      <th>2</th>\n",
       "      <td>1104462</td>\n",
       "      <td>شرکت زنجیره ای غذایی امیران (برغان)</td>\n",
       "      <td>کرج-میدان آزادگان-خیابان برغان-رو به روی بازار...</td>\n",
       "      <td>35.8212</td>\n",
       "      <td>51.0018</td>\n",
       "    </tr>\n",
       "    <tr>\n",
       "      <th>3</th>\n",
       "      <td>1104474</td>\n",
       "      <td>شرکت زنجیره ای غذایی امیران (عظیمیه)</td>\n",
       "      <td>کرج-عظیمیه – خیابان میخک بازار روز سابق میخک</td>\n",
       "      <td>35.8407</td>\n",
       "      <td>51.0099</td>\n",
       "    </tr>\n",
       "    <tr>\n",
       "      <th>4</th>\n",
       "      <td>1067853</td>\n",
       "      <td>فروشگاه اتکا فاز 4 مهرشهر-سایت کرج</td>\n",
       "      <td>کرج-فاز 4 مهرشهر- بلوار شهید خانزاده قبل از چه...</td>\n",
       "      <td>35.8138</td>\n",
       "      <td>50.9316</td>\n",
       "    </tr>\n",
       "  </tbody>\n",
       "</table>\n",
       "</div>"
      ],
      "text/plain": [
       "    Number                               Customer Name  \\\n",
       "0  1081095   ابراهیم آل ابراهیم - سایت تهران - 2237760   \n",
       "1  1117381                        جواد بیگلری سایت کرج   \n",
       "2  1104462         شرکت زنجیره ای غذایی امیران (برغان)   \n",
       "3  1104474        شرکت زنجیره ای غذایی امیران (عظیمیه)   \n",
       "4  1067853          فروشگاه اتکا فاز 4 مهرشهر-سایت کرج   \n",
       "\n",
       "                                             Details   Latitude  Longitude  \n",
       "0         خ محلاتی خ کیانی  خ میثم انتهای خیابان پ 7        ___        ___  \n",
       "1  فردیس کانال غربی خ دهکده بازار روز نقشه جهان غ...  35.733427  50.970085  \n",
       "2  کرج-میدان آزادگان-خیابان برغان-رو به روی بازار...    35.8212    51.0018  \n",
       "3       کرج-عظیمیه – خیابان میخک بازار روز سابق میخک    35.8407    51.0099  \n",
       "4  کرج-فاز 4 مهرشهر- بلوار شهید خانزاده قبل از چه...    35.8138    50.9316  "
      ]
     },
     "execution_count": 21,
     "metadata": {},
     "output_type": "execute_result"
    }
   ],
   "source": [
    "df.head()"
   ]
  },
  {
   "cell_type": "code",
   "execution_count": 25,
   "id": "86dc9a0c",
   "metadata": {},
   "outputs": [],
   "source": [
    "def extract_county(lat,lon):\n",
    "    if(lat!='___' and lon!='___'):\n",
    "        location_list = '---'\n",
    "        while (location_list =='---'):\n",
    "            try:\n",
    "                location_list = json.loads(requests.get('https://api.snapp.express/map/address/reverse?lat={}&lon={}'.format(lat,lon),timeout=3).text)[0]['data']\n",
    "            except:\n",
    "                pass\n",
    "        try:\n",
    "            return list(filter(lambda item: item[\"type\"] == 'county', location_list))[0]['name']\n",
    "        except:\n",
    "            return '___'\n",
    "    else:\n",
    "        return '___'"
   ]
  },
  {
   "cell_type": "code",
   "execution_count": 26,
   "id": "919f5646",
   "metadata": {},
   "outputs": [],
   "source": [
    "df['county'] = df.apply(lambda x: extract_county(x['Latitude'], x['Longitude']),axis=1) "
   ]
  },
  {
   "cell_type": "code",
   "execution_count": 28,
   "id": "8c20c183",
   "metadata": {},
   "outputs": [],
   "source": [
    "def extract_neighbourhood(lat,lon):\n",
    "    if(lat!='___' and lon!='___' and ):\n",
    "        location_list = '---'\n",
    "        while (location_list =='---'):\n",
    "            try:\n",
    "                location_list = json.loads(requests.get('https://api.snapp.express/map/address/reverse?lat={}&lon={}'.format(lat,lon),timeout=3).text)[0]['data']\n",
    "            except:\n",
    "                pass\n",
    "        try:\n",
    "            return list(filter(lambda item: item[\"type\"] == 'neighbourhood', location_list))[0]['name']\n",
    "        except:\n",
    "            return '___'\n",
    "    else:\n",
    "        return '___'"
   ]
  },
  {
   "cell_type": "code",
   "execution_count": 29,
   "id": "5417c5ef",
   "metadata": {},
   "outputs": [],
   "source": [
    "df['neighbourhood'] = df.apply(lambda x: extract_county(x['Latitude'], x['Longitude']),axis=1) "
   ]
  },
  {
   "cell_type": "code",
   "execution_count": 30,
   "id": "189e495c",
   "metadata": {},
   "outputs": [
    {
     "data": {
      "text/html": [
       "<div>\n",
       "<style scoped>\n",
       "    .dataframe tbody tr th:only-of-type {\n",
       "        vertical-align: middle;\n",
       "    }\n",
       "\n",
       "    .dataframe tbody tr th {\n",
       "        vertical-align: top;\n",
       "    }\n",
       "\n",
       "    .dataframe thead th {\n",
       "        text-align: right;\n",
       "    }\n",
       "</style>\n",
       "<table border=\"1\" class=\"dataframe\">\n",
       "  <thead>\n",
       "    <tr style=\"text-align: right;\">\n",
       "      <th></th>\n",
       "      <th>Number</th>\n",
       "      <th>Customer Name</th>\n",
       "      <th>Details</th>\n",
       "      <th>Latitude</th>\n",
       "      <th>Longitude</th>\n",
       "      <th>county</th>\n",
       "      <th>neighbourhood</th>\n",
       "    </tr>\n",
       "  </thead>\n",
       "  <tbody>\n",
       "    <tr>\n",
       "      <th>0</th>\n",
       "      <td>1081095</td>\n",
       "      <td>ابراهیم آل ابراهیم - سایت تهران - 2237760</td>\n",
       "      <td>خ محلاتی خ کیانی  خ میثم انتهای خیابان پ 7</td>\n",
       "      <td>___</td>\n",
       "      <td>___</td>\n",
       "      <td>___</td>\n",
       "      <td>___</td>\n",
       "    </tr>\n",
       "    <tr>\n",
       "      <th>1</th>\n",
       "      <td>1117381</td>\n",
       "      <td>جواد بیگلری سایت کرج</td>\n",
       "      <td>فردیس کانال غربی خ دهکده بازار روز نقشه جهان غ...</td>\n",
       "      <td>35.733427</td>\n",
       "      <td>50.970085</td>\n",
       "      <td>فردیس</td>\n",
       "      <td>فردیس</td>\n",
       "    </tr>\n",
       "    <tr>\n",
       "      <th>2</th>\n",
       "      <td>1104462</td>\n",
       "      <td>شرکت زنجیره ای غذایی امیران (برغان)</td>\n",
       "      <td>کرج-میدان آزادگان-خیابان برغان-رو به روی بازار...</td>\n",
       "      <td>35.8212</td>\n",
       "      <td>51.0018</td>\n",
       "      <td>___</td>\n",
       "      <td>___</td>\n",
       "    </tr>\n",
       "    <tr>\n",
       "      <th>3</th>\n",
       "      <td>1104474</td>\n",
       "      <td>شرکت زنجیره ای غذایی امیران (عظیمیه)</td>\n",
       "      <td>کرج-عظیمیه – خیابان میخک بازار روز سابق میخک</td>\n",
       "      <td>35.8407</td>\n",
       "      <td>51.0099</td>\n",
       "      <td>___</td>\n",
       "      <td>___</td>\n",
       "    </tr>\n",
       "    <tr>\n",
       "      <th>4</th>\n",
       "      <td>1067853</td>\n",
       "      <td>فروشگاه اتکا فاز 4 مهرشهر-سایت کرج</td>\n",
       "      <td>کرج-فاز 4 مهرشهر- بلوار شهید خانزاده قبل از چه...</td>\n",
       "      <td>35.8138</td>\n",
       "      <td>50.9316</td>\n",
       "      <td>___</td>\n",
       "      <td>___</td>\n",
       "    </tr>\n",
       "  </tbody>\n",
       "</table>\n",
       "</div>"
      ],
      "text/plain": [
       "    Number                               Customer Name  \\\n",
       "0  1081095   ابراهیم آل ابراهیم - سایت تهران - 2237760   \n",
       "1  1117381                        جواد بیگلری سایت کرج   \n",
       "2  1104462         شرکت زنجیره ای غذایی امیران (برغان)   \n",
       "3  1104474        شرکت زنجیره ای غذایی امیران (عظیمیه)   \n",
       "4  1067853          فروشگاه اتکا فاز 4 مهرشهر-سایت کرج   \n",
       "\n",
       "                                             Details   Latitude  Longitude  \\\n",
       "0         خ محلاتی خ کیانی  خ میثم انتهای خیابان پ 7        ___        ___   \n",
       "1  فردیس کانال غربی خ دهکده بازار روز نقشه جهان غ...  35.733427  50.970085   \n",
       "2  کرج-میدان آزادگان-خیابان برغان-رو به روی بازار...    35.8212    51.0018   \n",
       "3       کرج-عظیمیه – خیابان میخک بازار روز سابق میخک    35.8407    51.0099   \n",
       "4  کرج-فاز 4 مهرشهر- بلوار شهید خانزاده قبل از چه...    35.8138    50.9316   \n",
       "\n",
       "  county neighbourhood  \n",
       "0    ___           ___  \n",
       "1  فردیس         فردیس  \n",
       "2    ___           ___  \n",
       "3    ___           ___  \n",
       "4    ___           ___  "
      ]
     },
     "execution_count": 30,
     "metadata": {},
     "output_type": "execute_result"
    }
   ],
   "source": [
    "df.head()"
   ]
  },
  {
   "cell_type": "code",
   "execution_count": null,
   "id": "a1bc6d26",
   "metadata": {},
   "outputs": [],
   "source": []
  },
  {
   "cell_type": "code",
   "execution_count": null,
   "id": "3ee22f4f",
   "metadata": {},
   "outputs": [],
   "source": []
  },
  {
   "cell_type": "code",
   "execution_count": null,
   "id": "32183976",
   "metadata": {},
   "outputs": [],
   "source": []
  },
  {
   "cell_type": "code",
   "execution_count": null,
   "id": "e7c6dddc",
   "metadata": {},
   "outputs": [],
   "source": []
  },
  {
   "cell_type": "code",
   "execution_count": null,
   "id": "29a593c5",
   "metadata": {},
   "outputs": [],
   "source": []
  },
  {
   "cell_type": "code",
   "execution_count": null,
   "id": "3c765176",
   "metadata": {},
   "outputs": [],
   "source": []
  },
  {
   "cell_type": "code",
   "execution_count": 21,
   "id": "d358245a",
   "metadata": {},
   "outputs": [],
   "source": [
    "selected_location_list = '---'\n",
    "while (selected_location_list =='---'):\n",
    "    try:\n",
    "        selected_location_list = json.loads(requests.get('https://api.snapp.express/map/address/reverse?lat=35.733427&lon=50.970085',timeout=3).text)[0]['data']\n",
    "    except:\n",
    "        pass"
   ]
  },
  {
   "cell_type": "code",
   "execution_count": 25,
   "id": "92dc71e4",
   "metadata": {},
   "outputs": [
    {
     "data": {
      "text/plain": [
       "[{'name': 'لبنیات بوستان ۲ دهکده', 'type': 'poi'},\n",
       " {'name': 'دهکده', 'type': 'secondary'},\n",
       " {'name': 'نسترن غربی', 'type': 'neighbourhood'},\n",
       " {'name': 'فردیس', 'type': 'county'}]"
      ]
     },
     "execution_count": 25,
     "metadata": {},
     "output_type": "execute_result"
    }
   ],
   "source": [
    "selected_location_list"
   ]
  },
  {
   "cell_type": "code",
   "execution_count": 27,
   "id": "5c916e90",
   "metadata": {},
   "outputs": [],
   "source": [
    "# city = next(item['name'] for item in selected_location_list if item[\"type\"] == \"city\") # first solution\n",
    "\n",
    "# neighbourhood = next(item['name'] for item in selected_location_list if item[\"type\"] == \"neighbourhood\")\n",
    "\n",
    "# primary = next(item['name'] for item in selected_location_list if item[\"type\"] == \"primary\")\n",
    "\n",
    "# city = list(filter(lambda item: item[\"type\"] == 'city', selected_location_list))[0]['name']\n",
    "\n",
    "neighbourhood = list(filter(lambda item: item[\"type\"] == 'neighbourhood', selected_location_list))[0]['name']\n",
    "\n",
    "# primary = list(filter(lambda item: item[\"type\"] == 'primary', selected_location_list))[0]['name']\n",
    "\n",
    "secondary = list(filter(lambda item: item[\"type\"] == 'county', selected_location_list))[0]['name'] # second solution\n",
    "\n",
    "selected_location = neighbourhood + ' , '  + secondary "
   ]
  },
  {
   "cell_type": "code",
   "execution_count": 28,
   "id": "18d9e0a4",
   "metadata": {},
   "outputs": [
    {
     "data": {
      "text/plain": [
       "'نسترن غربی , فردیس'"
      ]
     },
     "execution_count": 28,
     "metadata": {},
     "output_type": "execute_result"
    }
   ],
   "source": [
    "selected_location"
   ]
  },
  {
   "cell_type": "code",
   "execution_count": null,
   "id": "6f52ab65",
   "metadata": {},
   "outputs": [],
   "source": []
  }
 ],
 "metadata": {
  "kernelspec": {
   "display_name": "Python 3 (ipykernel)",
   "language": "python",
   "name": "python3"
  },
  "language_info": {
   "codemirror_mode": {
    "name": "ipython",
    "version": 3
   },
   "file_extension": ".py",
   "mimetype": "text/x-python",
   "name": "python",
   "nbconvert_exporter": "python",
   "pygments_lexer": "ipython3",
   "version": "3.9.5"
  }
 },
 "nbformat": 4,
 "nbformat_minor": 5
}
